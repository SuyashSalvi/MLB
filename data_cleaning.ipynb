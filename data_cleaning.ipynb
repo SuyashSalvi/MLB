{
 "cells": [
  {
   "cell_type": "code",
   "execution_count": 29,
   "metadata": {},
   "outputs": [
    {
     "name": "stdout",
     "output_type": "stream",
     "text": [
      "Collecting matplotlib\n",
      "  Downloading matplotlib-3.7.5-cp38-cp38-macosx_11_0_arm64.whl (7.3 MB)\n",
      "\u001b[K     |████████████████████████████████| 7.3 MB 4.6 MB/s eta 0:00:01\n",
      "\u001b[?25hRequirement already satisfied: packaging>=20.0 in /Users/suyash/.pyenv/versions/3.8.10/lib/python3.8/site-packages (from matplotlib) (24.2)\n",
      "Requirement already satisfied: importlib-resources>=3.2.0 in /Users/suyash/.pyenv/versions/3.8.10/lib/python3.8/site-packages (from matplotlib) (6.4.5)\n",
      "Requirement already satisfied: python-dateutil>=2.7 in /Users/suyash/.pyenv/versions/3.8.10/lib/python3.8/site-packages (from matplotlib) (2.9.0.post0)\n",
      "Collecting kiwisolver>=1.0.1\n",
      "  Downloading kiwisolver-1.4.7-cp38-cp38-macosx_11_0_arm64.whl (64 kB)\n",
      "\u001b[K     |████████████████████████████████| 64 kB 5.1 MB/s  eta 0:00:01\n",
      "\u001b[?25hCollecting cycler>=0.10\n",
      "  Downloading cycler-0.12.1-py3-none-any.whl (8.3 kB)\n",
      "Collecting fonttools>=4.22.0\n",
      "  Downloading fonttools-4.55.4-cp38-cp38-macosx_10_9_universal2.whl (2.8 MB)\n",
      "\u001b[K     |████████████████████████████████| 2.8 MB 30.4 MB/s eta 0:00:01\n",
      "\u001b[?25hRequirement already satisfied: pillow>=6.2.0 in /Users/suyash/.pyenv/versions/3.8.10/lib/python3.8/site-packages (from matplotlib) (10.4.0)\n",
      "Requirement already satisfied: numpy<2,>=1.20 in /Users/suyash/.pyenv/versions/3.8.10/lib/python3.8/site-packages (from matplotlib) (1.24.4)\n",
      "Collecting pyparsing>=2.3.1\n",
      "  Downloading pyparsing-3.1.4-py3-none-any.whl (104 kB)\n",
      "\u001b[K     |████████████████████████████████| 104 kB 28.7 MB/s eta 0:00:01\n",
      "\u001b[?25hCollecting contourpy>=1.0.1\n",
      "  Downloading contourpy-1.1.1-cp38-cp38-macosx_11_0_arm64.whl (232 kB)\n",
      "\u001b[K     |████████████████████████████████| 232 kB 89.0 MB/s eta 0:00:01\n",
      "\u001b[?25hRequirement already satisfied: zipp>=3.1.0 in /Users/suyash/.pyenv/versions/3.8.10/lib/python3.8/site-packages (from importlib-resources>=3.2.0->matplotlib) (3.20.2)\n",
      "Requirement already satisfied: six>=1.5 in /Users/suyash/.pyenv/versions/3.8.10/lib/python3.8/site-packages (from python-dateutil>=2.7->matplotlib) (1.16.0)\n",
      "Installing collected packages: pyparsing, kiwisolver, fonttools, cycler, contourpy, matplotlib\n",
      "Successfully installed contourpy-1.1.1 cycler-0.12.1 fonttools-4.55.4 kiwisolver-1.4.7 matplotlib-3.7.5 pyparsing-3.1.4\n",
      "\u001b[33mWARNING: You are using pip version 21.1.1; however, version 24.3.1 is available.\n",
      "You should consider upgrading via the '/Users/suyash/.pyenv/versions/3.8.10/bin/python -m pip install --upgrade pip' command.\u001b[0m\n",
      "Note: you may need to restart the kernel to use updated packages.\n"
     ]
    }
   ],
   "source": [
    "pip install matplotlib"
   ]
  },
  {
   "cell_type": "code",
   "execution_count": 32,
   "metadata": {},
   "outputs": [
    {
     "name": "stdout",
     "output_type": "stream",
     "text": [
      "Collecting scipy\n",
      "  Downloading scipy-1.10.1-cp38-cp38-macosx_12_0_arm64.whl (28.8 MB)\n",
      "\u001b[K     |████████████████████████████████| 28.8 MB 2.9 MB/s eta 0:00:01\n",
      "\u001b[?25hRequirement already satisfied: numpy<1.27.0,>=1.19.5 in /Users/suyash/.pyenv/versions/3.8.10/lib/python3.8/site-packages (from scipy) (1.24.4)\n",
      "Installing collected packages: scipy\n",
      "Successfully installed scipy-1.10.1\n",
      "\u001b[33mWARNING: You are using pip version 21.1.1; however, version 24.3.1 is available.\n",
      "You should consider upgrading via the '/Users/suyash/.pyenv/versions/3.8.10/bin/python -m pip install --upgrade pip' command.\u001b[0m\n",
      "Note: you may need to restart the kernel to use updated packages.\n"
     ]
    }
   ],
   "source": [
    "pip install scipy"
   ]
  },
  {
   "cell_type": "code",
   "execution_count": 2,
   "metadata": {},
   "outputs": [],
   "source": [
    "import pandas as pd\n",
    "\n",
    "# Load the dataset\n",
    "df = pd.read_csv('./dataset/2016-mlb-homeruns.csv')\n",
    "\n",
    "df.drop_duplicates()\n",
    "\n",
    "# Handle missing values\n",
    "# df = df.fillna(method='ffill')  # Forward fill as an example\n",
    "\n",
    "df = df.drop(columns=[\"video\"])"
   ]
  },
  {
   "cell_type": "code",
   "execution_count": 27,
   "metadata": {},
   "outputs": [
    {
     "name": "stdout",
     "output_type": "stream",
     "text": [
      "<class 'pandas.core.frame.DataFrame'>\n",
      "Index: 5497 entries, 0 to 5498\n",
      "Data columns (total 5 columns):\n",
      " #   Column        Non-Null Count  Dtype  \n",
      "---  ------        --------------  -----  \n",
      " 0   play_id       5497 non-null   object \n",
      " 1   title         5497 non-null   object \n",
      " 2   ExitVelocity  5497 non-null   float64\n",
      " 3   HitDistance   5497 non-null   float64\n",
      " 4   LaunchAngle   5497 non-null   float64\n",
      "dtypes: float64(3), object(2)\n",
      "memory usage: 257.7+ KB\n"
     ]
    }
   ],
   "source": [
    "# Display basic information about the datasetprint()\n",
    "df.info()\n",
    "\n",
    "# # View the first few rows\n",
    "# df.head()\n",
    "\n",
    "# # Check for missing values\n",
    "# df.isnull().sum()\n",
    "\n",
    "# # Check for duplicate rows\n",
    "# df.duplicated().sum()"
   ]
  },
  {
   "cell_type": "code",
   "execution_count": 3,
   "metadata": {},
   "outputs": [],
   "source": [
    "# Fill missing values with the column mean\n",
    "df[\"ExitVelocity\"] = df[\"ExitVelocity\"].fillna(df[\"ExitVelocity\"].mean())\n",
    "df[\"HitDistance\"] = df[\"HitDistance\"].fillna(df[\"HitDistance\"].mean())\n",
    "df[\"LaunchAngle\"] = df[\"LaunchAngle\"].fillna(df[\"LaunchAngle\"].mean())\n",
    "df = df.dropna(subset=[\"title\"])"
   ]
  },
  {
   "cell_type": "code",
   "execution_count": 4,
   "metadata": {},
   "outputs": [],
   "source": [
    "# Check and convert data types if necessary\n",
    "df[\"ExitVelocity\"] = pd.to_numeric(df[\"ExitVelocity\"], errors=\"coerce\")\n",
    "df[\"HitDistance\"] = pd.to_numeric(df[\"HitDistance\"], errors=\"coerce\")\n",
    "df[\"LaunchAngle\"] = pd.to_numeric(df[\"LaunchAngle\"], errors=\"coerce\")"
   ]
  },
  {
   "cell_type": "code",
   "execution_count": 5,
   "metadata": {},
   "outputs": [
    {
     "data": {
      "image/png": "[encoded data removed]",
      "text/plain": [
       "<Figure size 640x480 with 1 Axes>"
      ]
     },
     "metadata": {},
     "output_type": "display_data"
    }
   ],
   "source": [
    "import matplotlib.pyplot as plt\n",
    "\n",
    "# Plot histograms\n",
    "df[\"ExitVelocity\"].hist(bins=30, alpha=0.7, label=\"ExitVelocity\")\n",
    "df[\"HitDistance\"].hist(bins=30, alpha=0.7, label=\"HitDistance\")\n",
    "df[\"LaunchAngle\"].hist(bins=30, alpha=0.7, label=\"LaunchAngle\")\n",
    "plt.legend()\n",
    "plt.title(\"Distribution of Key Metrics\")\n",
    "plt.show()"
   ]
  },
  {
   "cell_type": "code",
   "execution_count": 6,
   "metadata": {},
   "outputs": [
    {
     "name": "stdout",
     "output_type": "stream",
     "text": [
      "play_id               104\n",
      "title                 104\n",
      "ExitVelocity          104\n",
      "HitDistance           104\n",
      "LaunchAngle           104\n",
      "HitDistance_zscore    104\n",
      "dtype: int64\n"
     ]
    }
   ],
   "source": [
    "from scipy.stats import zscore\n",
    "\n",
    "# Calculate Z-scores\n",
    "df['HitDistance_zscore'] = zscore(df['HitDistance'])\n",
    "\n",
    "# Identify potential outliers\n",
    "outliers = df[df['HitDistance_zscore'].abs() > 3]\n",
    "print(outliers.count())"
   ]
  },
  {
   "cell_type": "code",
   "execution_count": 7,
   "metadata": {},
   "outputs": [
    {
     "data": {
      "text/html": [
       "<div>\n",
       "<style scoped>\n",
       "    .dataframe tbody tr th:only-of-type {\n",
       "        vertical-align: middle;\n",
       "    }\n",
       "\n",
       "    .dataframe tbody tr th {\n",
       "        vertical-align: top;\n",
       "    }\n",
       "\n",
       "    .dataframe thead th {\n",
       "        text-align: right;\n",
       "    }\n",
       "</style>\n",
       "<table border=\"1\" class=\"dataframe\">\n",
       "  <thead>\n",
       "    <tr style=\"text-align: right;\">\n",
       "      <th></th>\n",
       "      <th>play_id</th>\n",
       "      <th>title</th>\n",
       "      <th>ExitVelocity</th>\n",
       "      <th>HitDistance</th>\n",
       "      <th>LaunchAngle</th>\n",
       "      <th>HitDistance_zscore</th>\n",
       "    </tr>\n",
       "  </thead>\n",
       "  <tbody>\n",
       "    <tr>\n",
       "      <th>0</th>\n",
       "      <td>5b254850-9e14-48d2-8baf-c3e12ecbe68d</td>\n",
       "      <td>John Jaso homers (6) on a fly ball to center f...</td>\n",
       "      <td>102.9</td>\n",
       "      <td>412.0</td>\n",
       "      <td>25.0</td>\n",
       "      <td>0.327006</td>\n",
       "    </tr>\n",
       "    <tr>\n",
       "      <th>1</th>\n",
       "      <td>0110e760-5d49-4c53-ad29-e74c787c038d</td>\n",
       "      <td>Evan Longoria homers (34) on a fly ball to lef...</td>\n",
       "      <td>103.1</td>\n",
       "      <td>423.0</td>\n",
       "      <td>31.0</td>\n",
       "      <td>0.509790</td>\n",
       "    </tr>\n",
       "    <tr>\n",
       "      <th>2</th>\n",
       "      <td>3b9ecf94-e3fe-4d79-8b33-efe174dfa53e</td>\n",
       "      <td>Marwin Gonzalez homers (13) on a line drive to...</td>\n",
       "      <td>106.6</td>\n",
       "      <td>390.0</td>\n",
       "      <td>22.0</td>\n",
       "      <td>-0.038564</td>\n",
       "    </tr>\n",
       "    <tr>\n",
       "      <th>3</th>\n",
       "      <td>bda1cb83-dca9-46b2-aaad-6c1f009cd51c</td>\n",
       "      <td>Eddie Rosario homers (10) on a fly ball to rig...</td>\n",
       "      <td>98.5</td>\n",
       "      <td>368.0</td>\n",
       "      <td>30.0</td>\n",
       "      <td>-0.404133</td>\n",
       "    </tr>\n",
       "    <tr>\n",
       "      <th>4</th>\n",
       "      <td>9f87e907-3c4f-4187-8fb0-d6784b3b1f1a</td>\n",
       "      <td>Marcus Semien homers (26) on a fly ball to lef...</td>\n",
       "      <td>106.0</td>\n",
       "      <td>435.0</td>\n",
       "      <td>32.0</td>\n",
       "      <td>0.709192</td>\n",
       "    </tr>\n",
       "  </tbody>\n",
       "</table>\n",
       "</div>"
      ],
      "text/plain": [
       "                                play_id  \\\n",
       "0  5b254850-9e14-48d2-8baf-c3e12ecbe68d   \n",
       "1  0110e760-5d49-4c53-ad29-e74c787c038d   \n",
       "2  3b9ecf94-e3fe-4d79-8b33-efe174dfa53e   \n",
       "3  bda1cb83-dca9-46b2-aaad-6c1f009cd51c   \n",
       "4  9f87e907-3c4f-4187-8fb0-d6784b3b1f1a   \n",
       "\n",
       "                                               title  ExitVelocity  \\\n",
       "0  John Jaso homers (6) on a fly ball to center f...         102.9   \n",
       "1  Evan Longoria homers (34) on a fly ball to lef...         103.1   \n",
       "2  Marwin Gonzalez homers (13) on a line drive to...         106.6   \n",
       "3  Eddie Rosario homers (10) on a fly ball to rig...          98.5   \n",
       "4  Marcus Semien homers (26) on a fly ball to lef...         106.0   \n",
       "\n",
       "   HitDistance  LaunchAngle  HitDistance_zscore  \n",
       "0        412.0         25.0            0.327006  \n",
       "1        423.0         31.0            0.509790  \n",
       "2        390.0         22.0           -0.038564  \n",
       "3        368.0         30.0           -0.404133  \n",
       "4        435.0         32.0            0.709192  "
      ]
     },
     "execution_count": 7,
     "metadata": {},
     "output_type": "execute_result"
    }
   ],
   "source": [
    "df.head()"
   ]
  },
  {
   "cell_type": "code",
   "execution_count": null,
   "metadata": {},
   "outputs": [],
   "source": []
  }
 ],
 "metadata": {
  "kernelspec": {
   "display_name": "Python 3",
   "language": "python",
   "name": "python3"
  },
  "language_info": {
   "codemirror_mode": {
    "name": "ipython",
    "version": 3
   },
   "file_extension": ".py",
   "mimetype": "text/x-python",
   "name": "python",
   "nbconvert_exporter": "python",
   "pygments_lexer": "ipython3",
   "version": "3.8.10"
  }
 },
 "nbformat": 4,
 "nbformat_minor": 2
}
